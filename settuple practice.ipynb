{
 "cells": [
  {
   "cell_type": "markdown",
   "id": "a428ea73",
   "metadata": {},
   "source": [
    "# Tuple ,Set ,Dictionary"
   ]
  },
  {
   "cell_type": "markdown",
   "id": "b04f261a",
   "metadata": {},
   "source": [
    "# Tuple Slicing"
   ]
  },
  {
   "cell_type": "code",
   "execution_count": 17,
   "id": "71f774fd",
   "metadata": {},
   "outputs": [
    {
     "data": {
      "text/plain": [
       "('one', 'two', 'three')"
      ]
     },
     "execution_count": 17,
     "metadata": {},
     "output_type": "execute_result"
    }
   ],
   "source": [
    "tup1 = ('one','two','three','four','five','six','eight')\n",
    "tup1[0:3]"
   ]
  },
  {
   "cell_type": "code",
   "execution_count": 2,
   "id": "2821959d",
   "metadata": {},
   "outputs": [
    {
     "data": {
      "text/plain": [
       "()"
      ]
     },
     "execution_count": 2,
     "metadata": {},
     "output_type": "execute_result"
    }
   ],
   "source": [
    "tup1[3:0]"
   ]
  },
  {
   "cell_type": "code",
   "execution_count": 4,
   "id": "4b5ad5c8",
   "metadata": {},
   "outputs": [
    {
     "data": {
      "text/plain": [
       "('one',)"
      ]
     },
     "execution_count": 4,
     "metadata": {},
     "output_type": "execute_result"
    }
   ],
   "source": [
    "tup1[:1:]"
   ]
  },
  {
   "cell_type": "code",
   "execution_count": 12,
   "id": "358a609d",
   "metadata": {},
   "outputs": [
    {
     "data": {
      "text/plain": [
       "('six', 'eight')"
      ]
     },
     "execution_count": 12,
     "metadata": {},
     "output_type": "execute_result"
    }
   ],
   "source": [
    "tup1[-2:]"
   ]
  },
  {
   "cell_type": "code",
   "execution_count": 14,
   "id": "ce791eda",
   "metadata": {},
   "outputs": [
    {
     "data": {
      "text/plain": [
       "'three'"
      ]
     },
     "execution_count": 14,
     "metadata": {},
     "output_type": "execute_result"
    }
   ],
   "source": [
    "tup1[-5]"
   ]
  },
  {
   "cell_type": "code",
   "execution_count": 16,
   "id": "614b5ff6",
   "metadata": {},
   "outputs": [
    {
     "data": {
      "text/plain": [
       "('one', 'two', 'three', 'four', 'five', 'six', 'eight')"
      ]
     },
     "execution_count": 16,
     "metadata": {},
     "output_type": "execute_result"
    }
   ],
   "source": [
    "tup1[-7:]"
   ]
  },
  {
   "cell_type": "code",
   "execution_count": 19,
   "id": "d4f6b9c8",
   "metadata": {},
   "outputs": [
    {
     "data": {
      "text/plain": [
       "('one', 'two', 'three', 'four', 'five', 'six', 'eight')"
      ]
     },
     "execution_count": 19,
     "metadata": {},
     "output_type": "execute_result"
    }
   ],
   "source": [
    "tup1[:]"
   ]
  },
  {
   "cell_type": "markdown",
   "id": "47ea92e1",
   "metadata": {},
   "source": [
    "# Remove & Change Items "
   ]
  },
  {
   "cell_type": "code",
   "execution_count": 20,
   "id": "d48b5d33",
   "metadata": {},
   "outputs": [
    {
     "data": {
      "text/plain": [
       "('one', 'two', 'three', 'four', 'five', 'six', 'eight')"
      ]
     },
     "execution_count": 20,
     "metadata": {},
     "output_type": "execute_result"
    }
   ],
   "source": [
    "tup1"
   ]
  },
  {
   "cell_type": "code",
   "execution_count": 21,
   "id": "3a60645c",
   "metadata": {},
   "outputs": [
    {
     "ename": "TypeError",
     "evalue": "'tuple' object does not support item assignment",
     "output_type": "error",
     "traceback": [
      "\u001b[1;31m---------------------------------------------------------------------------\u001b[0m",
      "\u001b[1;31mTypeError\u001b[0m                                 Traceback (most recent call last)",
      "Cell \u001b[1;32mIn[21], line 1\u001b[0m\n\u001b[1;32m----> 1\u001b[0m tup1[\u001b[38;5;241m0\u001b[39m]\u001b[38;5;241m=\u001b[39m\u001b[38;5;241m1\u001b[39m\n",
      "\u001b[1;31mTypeError\u001b[0m: 'tuple' object does not support item assignment"
     ]
    }
   ],
   "source": [
    "tup1[0]=1 #  Tuples are immutable which means we can't DELETE tuple items "
   ]
  },
  {
   "cell_type": "code",
   "execution_count": null,
   "id": "362ca203",
   "metadata": {},
   "outputs": [],
   "source": []
  },
  {
   "cell_type": "markdown",
   "id": "e834f0ba",
   "metadata": {},
   "source": [
    "# Loop through a tuple"
   ]
  },
  {
   "cell_type": "code",
   "execution_count": 26,
   "id": "1c699a72",
   "metadata": {},
   "outputs": [
    {
     "data": {
      "text/plain": [
       "('one', 'two', 'three', 'four', 'five', 'six', 'seven', 'eight', 'nine', 'Ten')"
      ]
     },
     "execution_count": 26,
     "metadata": {},
     "output_type": "execute_result"
    }
   ],
   "source": [
    "tupl1 = ('one', 'two', 'three', 'four', 'five', 'six', 'seven','eight','nine','Ten')\n",
    "tupl1"
   ]
  },
  {
   "cell_type": "code",
   "execution_count": 27,
   "id": "eb95d406",
   "metadata": {},
   "outputs": [
    {
     "name": "stdout",
     "output_type": "stream",
     "text": [
      "one\n",
      "two\n",
      "three\n",
      "four\n",
      "five\n",
      "six\n",
      "seven\n",
      "eight\n",
      "nine\n",
      "Ten\n"
     ]
    }
   ],
   "source": [
    "for i in tupl1:\n",
    "    print(i)"
   ]
  },
  {
   "cell_type": "code",
   "execution_count": 29,
   "id": "e1d77623",
   "metadata": {},
   "outputs": [
    {
     "name": "stdout",
     "output_type": "stream",
     "text": [
      "(0, 'one')\n",
      "(1, 'two')\n",
      "(2, 'three')\n",
      "(3, 'four')\n",
      "(4, 'five')\n",
      "(5, 'six')\n",
      "(6, 'seven')\n",
      "(7, 'eight')\n",
      "(8, 'nine')\n",
      "(9, 'Ten')\n"
     ]
    }
   ],
   "source": [
    "for i in enumerate(tupl1):\n",
    "    print(i)"
   ]
  },
  {
   "cell_type": "markdown",
   "id": "cf0936d9",
   "metadata": {},
   "source": [
    "# Count "
   ]
  },
  {
   "cell_type": "code",
   "execution_count": 36,
   "id": "e8d474d5",
   "metadata": {},
   "outputs": [
    {
     "data": {
      "text/plain": [
       "(1, 2, 3, 1, 2, 3, 4, 4, 2, 2, 4, 6, 6, 7, 7)"
      ]
     },
     "execution_count": 36,
     "metadata": {},
     "output_type": "execute_result"
    }
   ],
   "source": [
    "t1 = (1,2,3,1,2,3,4,4,2,2,4,6,6,7,7)\n",
    "t1"
   ]
  },
  {
   "cell_type": "code",
   "execution_count": 43,
   "id": "7e246061",
   "metadata": {},
   "outputs": [
    {
     "data": {
      "text/plain": [
       "2"
      ]
     },
     "execution_count": 43,
     "metadata": {},
     "output_type": "execute_result"
    }
   ],
   "source": [
    "t1.count(7)"
   ]
  },
  {
   "cell_type": "markdown",
   "id": "5209176c",
   "metadata": {},
   "source": [
    "# Tuple Membership"
   ]
  },
  {
   "cell_type": "code",
   "execution_count": 45,
   "id": "be37a050",
   "metadata": {},
   "outputs": [
    {
     "data": {
      "text/plain": [
       "('one', 'two', 'three', 'four', 'five', 'six', 'seven', 'eight', 'nine', 'Ten')"
      ]
     },
     "execution_count": 45,
     "metadata": {},
     "output_type": "execute_result"
    }
   ],
   "source": [
    "tupl1"
   ]
  },
  {
   "cell_type": "code",
   "execution_count": 47,
   "id": "b1a04e75",
   "metadata": {},
   "outputs": [
    {
     "data": {
      "text/plain": [
       "True"
      ]
     },
     "execution_count": 47,
     "metadata": {},
     "output_type": "execute_result"
    }
   ],
   "source": [
    "'one' in tupl1"
   ]
  },
  {
   "cell_type": "code",
   "execution_count": 48,
   "id": "a718a15e",
   "metadata": {},
   "outputs": [
    {
     "data": {
      "text/plain": [
       "False"
      ]
     },
     "execution_count": 48,
     "metadata": {},
     "output_type": "execute_result"
    }
   ],
   "source": [
    "'elevan' in tupl1"
   ]
  },
  {
   "cell_type": "code",
   "execution_count": 52,
   "id": "f521f154",
   "metadata": {},
   "outputs": [
    {
     "name": "stdout",
     "output_type": "stream",
     "text": [
      "present in tuple\n"
     ]
    }
   ],
   "source": [
    "if 'six' in tupl1:\n",
    "    print('present in tuple')\n",
    "else:\n",
    "    print('Not present in tuple')"
   ]
  },
  {
   "cell_type": "markdown",
   "id": "960d2f2f",
   "metadata": {},
   "source": [
    "# index Position"
   ]
  },
  {
   "cell_type": "code",
   "execution_count": 53,
   "id": "68c08dfd",
   "metadata": {},
   "outputs": [
    {
     "data": {
      "text/plain": [
       "('one', 'two', 'three', 'four', 'five', 'six', 'seven', 'eight', 'nine', 'Ten')"
      ]
     },
     "execution_count": 53,
     "metadata": {},
     "output_type": "execute_result"
    }
   ],
   "source": [
    "tupl1"
   ]
  },
  {
   "cell_type": "code",
   "execution_count": 54,
   "id": "1613f80e",
   "metadata": {},
   "outputs": [
    {
     "data": {
      "text/plain": [
       "0"
      ]
     },
     "execution_count": 54,
     "metadata": {},
     "output_type": "execute_result"
    }
   ],
   "source": [
    "tupl1.index('one')"
   ]
  },
  {
   "cell_type": "code",
   "execution_count": 56,
   "id": "3b3de623",
   "metadata": {},
   "outputs": [
    {
     "data": {
      "text/plain": [
       "9"
      ]
     },
     "execution_count": 56,
     "metadata": {},
     "output_type": "execute_result"
    }
   ],
   "source": [
    "tupl1.index('Ten')"
   ]
  },
  {
   "cell_type": "markdown",
   "id": "c51897ba",
   "metadata": {},
   "source": [
    "# Sorting"
   ]
  },
  {
   "cell_type": "code",
   "execution_count": 58,
   "id": "ca3dd5ab",
   "metadata": {},
   "outputs": [
    {
     "data": {
      "text/plain": [
       "(100, 10, 23, 45, 65, 289, 13, 75, 3258, 369, 258, 147)"
      ]
     },
     "execution_count": 58,
     "metadata": {},
     "output_type": "execute_result"
    }
   ],
   "source": [
    "t2 = (100,10,23,45,65,289,13,75,3258,369,258,147)\n",
    "t2"
   ]
  },
  {
   "cell_type": "code",
   "execution_count": 59,
   "id": "bbfa00e4",
   "metadata": {},
   "outputs": [
    {
     "data": {
      "text/plain": [
       "[10, 13, 23, 45, 65, 75, 100, 147, 258, 289, 369, 3258]"
      ]
     },
     "execution_count": 59,
     "metadata": {},
     "output_type": "execute_result"
    }
   ],
   "source": [
    "sorted(t2)"
   ]
  },
  {
   "cell_type": "code",
   "execution_count": 60,
   "id": "cb230bf5",
   "metadata": {},
   "outputs": [
    {
     "data": {
      "text/plain": [
       "[3258, 369, 289, 258, 147, 100, 75, 65, 45, 23, 13, 10]"
      ]
     },
     "execution_count": 60,
     "metadata": {},
     "output_type": "execute_result"
    }
   ],
   "source": [
    "sorted(t2, reverse= True)"
   ]
  },
  {
   "cell_type": "markdown",
   "id": "1adb7d4f",
   "metadata": {},
   "source": [
    "# Set"
   ]
  },
  {
   "cell_type": "markdown",
   "id": "8358caca",
   "metadata": {},
   "source": [
    "1) Set elements are immutable (cannot be changed). \n",
    "2) Set itself is mutable. We can add or remove items from it."
   ]
  },
  {
   "cell_type": "markdown",
   "id": "efdc6b22",
   "metadata": {},
   "source": [
    "# Set creation"
   ]
  },
  {
   "cell_type": "code",
   "execution_count": 61,
   "id": "7264418d",
   "metadata": {},
   "outputs": [
    {
     "data": {
      "text/plain": [
       "{1, 2, 3, 4, 5}"
      ]
     },
     "execution_count": 61,
     "metadata": {},
     "output_type": "execute_result"
    }
   ],
   "source": [
    "set = {1,2,3,4,5}\n",
    "set"
   ]
  },
  {
   "cell_type": "code",
   "execution_count": 62,
   "id": "757bedc1",
   "metadata": {},
   "outputs": [
    {
     "data": {
      "text/plain": [
       "5"
      ]
     },
     "execution_count": 62,
     "metadata": {},
     "output_type": "execute_result"
    }
   ],
   "source": [
    "len(set)"
   ]
  },
  {
   "cell_type": "code",
   "execution_count": 64,
   "id": "66f93dcf",
   "metadata": {},
   "outputs": [
    {
     "data": {
      "text/plain": [
       "{1, 2, 3, 4, 5, 6}"
      ]
     },
     "execution_count": 64,
     "metadata": {},
     "output_type": "execute_result"
    }
   ],
   "source": [
    "set1 = {1,2,1,2,3,6,3,6,5,4,4,5}  # Dublicat element not allow in set\n",
    "set1"
   ]
  },
  {
   "cell_type": "code",
   "execution_count": 65,
   "id": "66b0e597",
   "metadata": {},
   "outputs": [
    {
     "data": {
      "text/plain": [
       "{1.0, 1.01, 2.08, 88.36}"
      ]
     },
     "execution_count": 65,
     "metadata": {},
     "output_type": "execute_result"
    }
   ],
   "source": [
    "set2 = {1.01,2.08,88.36,1.00,} # float\n",
    "set2"
   ]
  },
  {
   "cell_type": "code",
   "execution_count": 68,
   "id": "d3bce93b",
   "metadata": {},
   "outputs": [
    {
     "data": {
      "text/plain": [
       "{'divesh', 'patil', 'shivaji'}"
      ]
     },
     "execution_count": 68,
     "metadata": {},
     "output_type": "execute_result"
    }
   ],
   "source": [
    "set3 = {'patil','divesh','shivaji'} # string\n",
    "set3"
   ]
  },
  {
   "cell_type": "code",
   "execution_count": 69,
   "id": "efd551fe",
   "metadata": {},
   "outputs": [
    {
     "data": {
      "text/plain": [
       "{(11, 22, 32), 10, 20, 'Hola'}"
      ]
     },
     "execution_count": 69,
     "metadata": {},
     "output_type": "execute_result"
    }
   ],
   "source": [
    "set4 = {10,20, \"Hola\", (11, 22, 32)} # mixed set\n",
    "set4"
   ]
  },
  {
   "cell_type": "markdown",
   "id": "2145794a",
   "metadata": {},
   "source": [
    "# Loop through a Set"
   ]
  },
  {
   "cell_type": "code",
   "execution_count": 70,
   "id": "ae5b41c6",
   "metadata": {},
   "outputs": [
    {
     "data": {
      "text/plain": [
       "{'five', 'fore', 'one', 'six', 'three', 'two'}"
      ]
     },
     "execution_count": 70,
     "metadata": {},
     "output_type": "execute_result"
    }
   ],
   "source": [
    "set = {'one','two','three','fore','five','six'}\n",
    "set"
   ]
  },
  {
   "cell_type": "code",
   "execution_count": 71,
   "id": "94e610e4",
   "metadata": {},
   "outputs": [
    {
     "name": "stdout",
     "output_type": "stream",
     "text": [
      "five\n",
      "one\n",
      "two\n",
      "fore\n",
      "six\n",
      "three\n"
     ]
    }
   ],
   "source": [
    "for i in set:\n",
    "    print(i)"
   ]
  },
  {
   "cell_type": "code",
   "execution_count": 72,
   "id": "49f2ae89",
   "metadata": {},
   "outputs": [
    {
     "name": "stdout",
     "output_type": "stream",
     "text": [
      "(0, 'five')\n",
      "(1, 'one')\n",
      "(2, 'two')\n",
      "(3, 'fore')\n",
      "(4, 'six')\n",
      "(5, 'three')\n"
     ]
    }
   ],
   "source": [
    "for i in enumerate(set):\n",
    "    print(i)"
   ]
  },
  {
   "cell_type": "markdown",
   "id": "54ec49c1",
   "metadata": {},
   "source": [
    "# Set Membership "
   ]
  },
  {
   "cell_type": "code",
   "execution_count": 73,
   "id": "a26768ea",
   "metadata": {},
   "outputs": [
    {
     "data": {
      "text/plain": [
       "{'five', 'fore', 'one', 'six', 'three', 'two'}"
      ]
     },
     "execution_count": 73,
     "metadata": {},
     "output_type": "execute_result"
    }
   ],
   "source": [
    "set"
   ]
  },
  {
   "cell_type": "code",
   "execution_count": 74,
   "id": "5e1cfeb0",
   "metadata": {},
   "outputs": [
    {
     "data": {
      "text/plain": [
       "True"
      ]
     },
     "execution_count": 74,
     "metadata": {},
     "output_type": "execute_result"
    }
   ],
   "source": [
    "'one' in set"
   ]
  },
  {
   "cell_type": "code",
   "execution_count": 76,
   "id": "61a2e1f7",
   "metadata": {},
   "outputs": [
    {
     "data": {
      "text/plain": [
       "False"
      ]
     },
     "execution_count": 76,
     "metadata": {},
     "output_type": "execute_result"
    }
   ],
   "source": [
    "'seven' in set"
   ]
  },
  {
   "cell_type": "code",
   "execution_count": 78,
   "id": "3f11d66e",
   "metadata": {},
   "outputs": [
    {
     "name": "stdout",
     "output_type": "stream",
     "text": [
      "Not present in set\n"
     ]
    }
   ],
   "source": [
    "if 'Ten' in set:\n",
    "    print('preaent in set')\n",
    "else:\n",
    "    print('Not present in set')"
   ]
  },
  {
   "cell_type": "markdown",
   "id": "44531862",
   "metadata": {},
   "source": [
    "# Add & Remove Items "
   ]
  },
  {
   "cell_type": "code",
   "execution_count": 79,
   "id": "9b106968",
   "metadata": {},
   "outputs": [
    {
     "data": {
      "text/plain": [
       "{'five', 'fore', 'one', 'six', 'three', 'two'}"
      ]
     },
     "execution_count": 79,
     "metadata": {},
     "output_type": "execute_result"
    }
   ],
   "source": [
    "set"
   ]
  },
  {
   "cell_type": "code",
   "execution_count": 81,
   "id": "06f982f9",
   "metadata": {},
   "outputs": [],
   "source": [
    "set.add('seven') # Add"
   ]
  },
  {
   "cell_type": "code",
   "execution_count": 82,
   "id": "3fe65aea",
   "metadata": {},
   "outputs": [
    {
     "data": {
      "text/plain": [
       "{'five', 'fore', 'one', 'seven', 'six', 'three', 'two'}"
      ]
     },
     "execution_count": 82,
     "metadata": {},
     "output_type": "execute_result"
    }
   ],
   "source": [
    "set"
   ]
  },
  {
   "cell_type": "code",
   "execution_count": 96,
   "id": "0088c75e",
   "metadata": {},
   "outputs": [],
   "source": [
    "set.add('six')"
   ]
  },
  {
   "cell_type": "code",
   "execution_count": 92,
   "id": "2e294979",
   "metadata": {},
   "outputs": [
    {
     "data": {
      "text/plain": [
       "{'five', 'fore', 'one', 'seven', 'six', 'three', 'two'}"
      ]
     },
     "execution_count": 92,
     "metadata": {},
     "output_type": "execute_result"
    }
   ],
   "source": [
    "set"
   ]
  },
  {
   "cell_type": "code",
   "execution_count": 93,
   "id": "9e3d88a8",
   "metadata": {},
   "outputs": [],
   "source": [
    "set.remove('six') # Remove"
   ]
  },
  {
   "cell_type": "code",
   "execution_count": 94,
   "id": "4aeca8ae",
   "metadata": {},
   "outputs": [
    {
     "data": {
      "text/plain": [
       "{'five', 'fore', 'one', 'seven', 'three', 'two'}"
      ]
     },
     "execution_count": 94,
     "metadata": {},
     "output_type": "execute_result"
    }
   ],
   "source": [
    "set"
   ]
  },
  {
   "cell_type": "code",
   "execution_count": 98,
   "id": "9f9cb547",
   "metadata": {},
   "outputs": [],
   "source": [
    "set.clear()"
   ]
  },
  {
   "cell_type": "code",
   "execution_count": 99,
   "id": "0c5cc485",
   "metadata": {},
   "outputs": [
    {
     "data": {
      "text/plain": [
       "set()"
      ]
     },
     "execution_count": 99,
     "metadata": {},
     "output_type": "execute_result"
    }
   ],
   "source": [
    "set"
   ]
  },
  {
   "cell_type": "code",
   "execution_count": 100,
   "id": "3a62d1ad",
   "metadata": {},
   "outputs": [],
   "source": [
    "set.update(['one','two','three','four','five','six','seven',]) # update"
   ]
  },
  {
   "cell_type": "code",
   "execution_count": 101,
   "id": "3983e222",
   "metadata": {},
   "outputs": [
    {
     "data": {
      "text/plain": [
       "{'five', 'four', 'one', 'seven', 'six', 'three', 'two'}"
      ]
     },
     "execution_count": 101,
     "metadata": {},
     "output_type": "execute_result"
    }
   ],
   "source": [
    "set"
   ]
  },
  {
   "cell_type": "code",
   "execution_count": 102,
   "id": "51a7ae03",
   "metadata": {},
   "outputs": [
    {
     "data": {
      "text/plain": [
       "{'five', 'four', 'seven', 'six', 'three', 'two'}"
      ]
     },
     "execution_count": 102,
     "metadata": {},
     "output_type": "execute_result"
    }
   ],
   "source": [
    "set.discard('one')  # discard\n",
    "set"
   ]
  },
  {
   "cell_type": "code",
   "execution_count": 103,
   "id": "9660c69f",
   "metadata": {},
   "outputs": [],
   "source": [
    "set.clear()"
   ]
  },
  {
   "cell_type": "code",
   "execution_count": 104,
   "id": "61eb5201",
   "metadata": {},
   "outputs": [
    {
     "data": {
      "text/plain": [
       "set()"
      ]
     },
     "execution_count": 104,
     "metadata": {},
     "output_type": "execute_result"
    }
   ],
   "source": [
    "set"
   ]
  },
  {
   "cell_type": "markdown",
   "id": "d2b67d2e",
   "metadata": {},
   "source": [
    "# Copy Set "
   ]
  },
  {
   "cell_type": "code",
   "execution_count": 105,
   "id": "e72d961b",
   "metadata": {},
   "outputs": [
    {
     "data": {
      "text/plain": [
       "{'eight', 'five', 'four', 'one', 'seven', 'six', 'three', 'two'}"
      ]
     },
     "execution_count": 105,
     "metadata": {},
     "output_type": "execute_result"
    }
   ],
   "source": [
    "myset = {'one', 'two', 'three', 'four', 'five', 'six', 'seven', 'eight'}\n",
    "myset"
   ]
  },
  {
   "cell_type": "code",
   "execution_count": 106,
   "id": "ad2558db",
   "metadata": {},
   "outputs": [
    {
     "data": {
      "text/plain": [
       "{'eight', 'five', 'four', 'one', 'seven', 'six', 'three', 'two'}"
      ]
     },
     "execution_count": 106,
     "metadata": {},
     "output_type": "execute_result"
    }
   ],
   "source": [
    "myset1 = myset # Create a new reference \"myset1\" \n",
    "myset1"
   ]
  },
  {
   "cell_type": "code",
   "execution_count": 108,
   "id": "815ac687",
   "metadata": {},
   "outputs": [
    {
     "data": {
      "text/plain": [
       "(1705340000672, 1705340000672)"
      ]
     },
     "execution_count": 108,
     "metadata": {},
     "output_type": "execute_result"
    }
   ],
   "source": [
    "id(myset1), id(myset)  # The address of both myset & myset1 will be the same as"
   ]
  },
  {
   "cell_type": "code",
   "execution_count": 109,
   "id": "534d2571",
   "metadata": {},
   "outputs": [
    {
     "data": {
      "text/plain": [
       "{'eight', 'five', 'four', 'one', 'seven', 'six', 'three', 'two'}"
      ]
     },
     "execution_count": 109,
     "metadata": {},
     "output_type": "execute_result"
    }
   ],
   "source": [
    "my_set = myset.copy()  # Create a copy of the list \n",
    "my_set"
   ]
  },
  {
   "cell_type": "code",
   "execution_count": 110,
   "id": "f06f7af6",
   "metadata": {},
   "outputs": [
    {
     "data": {
      "text/plain": [
       "1705341750624"
      ]
     },
     "execution_count": 110,
     "metadata": {},
     "output_type": "execute_result"
    }
   ],
   "source": [
    "id(my_set)"
   ]
  },
  {
   "cell_type": "code",
   "execution_count": 111,
   "id": "bd64ff98",
   "metadata": {},
   "outputs": [
    {
     "data": {
      "text/plain": [
       "{'NINE', 'eight', 'five', 'four', 'one', 'seven', 'six', 'three', 'two'}"
      ]
     },
     "execution_count": 111,
     "metadata": {},
     "output_type": "execute_result"
    }
   ],
   "source": [
    "my_set.add('NINE')\n",
    "my_set"
   ]
  },
  {
   "cell_type": "code",
   "execution_count": 112,
   "id": "b06de8cb",
   "metadata": {},
   "outputs": [
    {
     "data": {
      "text/plain": [
       "{'eight', 'five', 'four', 'one', 'seven', 'six', 'three', 'two'}"
      ]
     },
     "execution_count": 112,
     "metadata": {},
     "output_type": "execute_result"
    }
   ],
   "source": [
    "myset"
   ]
  },
  {
   "cell_type": "code",
   "execution_count": 113,
   "id": "25358759",
   "metadata": {},
   "outputs": [
    {
     "data": {
      "text/plain": [
       "{'eight', 'five', 'four', 'one', 'seven', 'six', 'three', 'two'}"
      ]
     },
     "execution_count": 113,
     "metadata": {},
     "output_type": "execute_result"
    }
   ],
   "source": [
    "myset1"
   ]
  },
  {
   "cell_type": "code",
   "execution_count": 114,
   "id": "b42fdb84",
   "metadata": {},
   "outputs": [
    {
     "data": {
      "text/plain": [
       "{'NINE', 'eight', 'five', 'four', 'one', 'seven', 'six', 'three', 'two'}"
      ]
     },
     "execution_count": 114,
     "metadata": {},
     "output_type": "execute_result"
    }
   ],
   "source": [
    "my_set"
   ]
  },
  {
   "cell_type": "markdown",
   "id": "28fc8a5f",
   "metadata": {},
   "source": [
    "# Set Operation "
   ]
  },
  {
   "cell_type": "markdown",
   "id": "794a26af",
   "metadata": {},
   "source": [
    "1.Union\n",
    "2.Intersection\n",
    "3.Difference\n",
    "4.Symmetric Difference\n",
    "5.Subset , Superset & Disjoint"
   ]
  },
  {
   "cell_type": "markdown",
   "id": "41525eb6",
   "metadata": {},
   "source": [
    "# Union"
   ]
  },
  {
   "cell_type": "code",
   "execution_count": 115,
   "id": "a839967f",
   "metadata": {},
   "outputs": [],
   "source": [
    "A = {1,2,3,4,5} \n",
    "B = {4,5,6,7,8} \n",
    "C = {8,9,10}"
   ]
  },
  {
   "cell_type": "code",
   "execution_count": 116,
   "id": "71217b02",
   "metadata": {},
   "outputs": [
    {
     "data": {
      "text/plain": [
       "{1, 2, 3, 4, 5, 6, 7, 8}"
      ]
     },
     "execution_count": 116,
     "metadata": {},
     "output_type": "execute_result"
    }
   ],
   "source": [
    "A | B  # All elements from both sets. NO DUPLICATES"
   ]
  },
  {
   "cell_type": "code",
   "execution_count": 119,
   "id": "a359b0b4",
   "metadata": {},
   "outputs": [
    {
     "data": {
      "text/plain": [
       "{1, 2, 3, 4, 5, 6, 7, 8, 9, 10}"
      ]
     },
     "execution_count": 119,
     "metadata": {},
     "output_type": "execute_result"
    }
   ],
   "source": [
    "A.union(B,C) # All element are union"
   ]
  },
  {
   "cell_type": "code",
   "execution_count": 136,
   "id": "564149fd",
   "metadata": {},
   "outputs": [
    {
     "data": {
      "text/plain": [
       "{1, 2, 3, 4, 5, 6, 7, 8, 9, 10}"
      ]
     },
     "execution_count": 136,
     "metadata": {},
     "output_type": "execute_result"
    }
   ],
   "source": [
    "A.update(B,C) \n",
    "A"
   ]
  },
  {
   "cell_type": "markdown",
   "id": "1ae65566",
   "metadata": {},
   "source": [
    "# Intersection"
   ]
  },
  {
   "cell_type": "code",
   "execution_count": 120,
   "id": "08e8380b",
   "metadata": {},
   "outputs": [],
   "source": [
    "A = {1,2,3,4,5} \n",
    "B = {4,5,6,7,8} \n",
    "C = {8,9,10}"
   ]
  },
  {
   "cell_type": "code",
   "execution_count": 123,
   "id": "ca744bee",
   "metadata": {},
   "outputs": [
    {
     "data": {
      "text/plain": [
       "{4, 5}"
      ]
     },
     "execution_count": 123,
     "metadata": {},
     "output_type": "execute_result"
    }
   ],
   "source": [
    "A.intersection(B,) # Common items in both sets"
   ]
  },
  {
   "cell_type": "code",
   "execution_count": 126,
   "id": "88f76ca7",
   "metadata": {},
   "outputs": [
    {
     "data": {
      "text/plain": [
       "{8}"
      ]
     },
     "execution_count": 126,
     "metadata": {},
     "output_type": "execute_result"
    }
   ],
   "source": [
    "B & C"
   ]
  },
  {
   "cell_type": "code",
   "execution_count": null,
   "id": "0d59448d",
   "metadata": {},
   "outputs": [],
   "source": []
  },
  {
   "cell_type": "markdown",
   "id": "3933b436",
   "metadata": {},
   "source": [
    "# Difference"
   ]
  },
  {
   "cell_type": "code",
   "execution_count": 127,
   "id": "69f7a42c",
   "metadata": {},
   "outputs": [],
   "source": [
    "A = {1,2,3,4,5} \n",
    "B = {4,5,6,7,8} \n",
    "C = {8,9,10}"
   ]
  },
  {
   "cell_type": "code",
   "execution_count": 130,
   "id": "eafbd59b",
   "metadata": {},
   "outputs": [
    {
     "data": {
      "text/plain": [
       "{1, 2, 3}"
      ]
     },
     "execution_count": 130,
     "metadata": {},
     "output_type": "execute_result"
    }
   ],
   "source": [
    "A.difference(B)  # set of elements that are only in A but not in B"
   ]
  },
  {
   "cell_type": "code",
   "execution_count": 131,
   "id": "ef439372",
   "metadata": {},
   "outputs": [
    {
     "data": {
      "text/plain": [
       "{4, 5, 6, 7}"
      ]
     },
     "execution_count": 131,
     "metadata": {},
     "output_type": "execute_result"
    }
   ],
   "source": [
    "B - C"
   ]
  },
  {
   "cell_type": "code",
   "execution_count": null,
   "id": "dc753930",
   "metadata": {},
   "outputs": [],
   "source": []
  },
  {
   "cell_type": "markdown",
   "id": "7985e1a3",
   "metadata": {},
   "source": [
    "# Symmetric Difference"
   ]
  },
  {
   "cell_type": "code",
   "execution_count": 132,
   "id": "3d073417",
   "metadata": {},
   "outputs": [],
   "source": [
    "A = {1,2,3,4,5} \n",
    "B = {4,5,6,7,8} \n",
    "C = {8,9,10}"
   ]
  },
  {
   "cell_type": "code",
   "execution_count": 133,
   "id": "83706d54",
   "metadata": {},
   "outputs": [
    {
     "data": {
      "text/plain": [
       "{1, 2, 3, 6, 7, 8}"
      ]
     },
     "execution_count": 133,
     "metadata": {},
     "output_type": "execute_result"
    }
   ],
   "source": [
    "A.symmetric_difference(B) # A and B same same element not print "
   ]
  },
  {
   "cell_type": "code",
   "execution_count": 134,
   "id": "8ca340c1",
   "metadata": {},
   "outputs": [
    {
     "data": {
      "text/plain": [
       "{4, 5, 6, 7, 9, 10}"
      ]
     },
     "execution_count": 134,
     "metadata": {},
     "output_type": "execute_result"
    }
   ],
   "source": [
    "B ^ C"
   ]
  },
  {
   "cell_type": "code",
   "execution_count": null,
   "id": "ac75d219",
   "metadata": {},
   "outputs": [],
   "source": []
  },
  {
   "cell_type": "markdown",
   "id": "bbcc01b5",
   "metadata": {},
   "source": [
    "# Subset , Superset & Disjoint"
   ]
  },
  {
   "cell_type": "code",
   "execution_count": 150,
   "id": "187858f8",
   "metadata": {},
   "outputs": [],
   "source": [
    "A = {1,2,3,4,5,6,7,8,9} \n",
    "B = {3,4,5,6,7,8} \n",
    "C = {10,20,30,40} "
   ]
  },
  {
   "cell_type": "code",
   "execution_count": 152,
   "id": "aafc0603",
   "metadata": {},
   "outputs": [
    {
     "data": {
      "text/plain": [
       "True"
      ]
     },
     "execution_count": 152,
     "metadata": {},
     "output_type": "execute_result"
    }
   ],
   "source": [
    "B.issubset(A) # dady of B "
   ]
  },
  {
   "cell_type": "code",
   "execution_count": 153,
   "id": "1b2d7bf0",
   "metadata": {},
   "outputs": [
    {
     "data": {
      "text/plain": [
       "True"
      ]
     },
     "execution_count": 153,
     "metadata": {},
     "output_type": "execute_result"
    }
   ],
   "source": [
    "A.issuperset(B) # A is child B"
   ]
  },
  {
   "cell_type": "code",
   "execution_count": 154,
   "id": "a86df1de",
   "metadata": {},
   "outputs": [
    {
     "data": {
      "text/plain": [
       "True"
      ]
     },
     "execution_count": 154,
     "metadata": {},
     "output_type": "execute_result"
    }
   ],
   "source": [
    "B.isdisjoint(C) "
   ]
  },
  {
   "cell_type": "markdown",
   "id": "77d8eee3",
   "metadata": {},
   "source": [
    "# Dictionary "
   ]
  },
  {
   "cell_type": "markdown",
   "id": "327bd966",
   "metadata": {},
   "source": [
    "1. Dictionary is a mutable data type in Python\n",
    "2. collection of key and value pairs"
   ]
  },
  {
   "cell_type": "code",
   "execution_count": null,
   "id": "0751f4e5",
   "metadata": {},
   "outputs": [],
   "source": []
  },
  {
   "cell_type": "code",
   "execution_count": null,
   "id": "6311377e",
   "metadata": {},
   "outputs": [],
   "source": [
    "mydict = {} # create dictionary\n",
    "mydic"
   ]
  },
  {
   "cell_type": "code",
   "execution_count": 160,
   "id": "d068186a",
   "metadata": {},
   "outputs": [
    {
     "data": {
      "text/plain": [
       "{1: 'one', 2: 'two', 3: 'three'}"
      ]
     },
     "execution_count": 160,
     "metadata": {},
     "output_type": "execute_result"
    }
   ],
   "source": [
    "mydict = {1:'one', 2:'two', 3:'three'}\n",
    "mydict"
   ]
  },
  {
   "cell_type": "code",
   "execution_count": 169,
   "id": "adc21a61",
   "metadata": {},
   "outputs": [
    {
     "data": {
      "text/plain": [
       "{'A': 'one', 'B': 'two', 'C': 'three'}"
      ]
     },
     "execution_count": 169,
     "metadata": {},
     "output_type": "execute_result"
    }
   ],
   "source": [
    "mydict = {'A':'one', 'B':'two','C':'three'}\n",
    "mydict"
   ]
  },
  {
   "cell_type": "code",
   "execution_count": 171,
   "id": "ff7f7183",
   "metadata": {},
   "outputs": [
    {
     "data": {
      "text/plain": [
       "dict_keys(['A', 'B', 'C'])"
      ]
     },
     "execution_count": 171,
     "metadata": {},
     "output_type": "execute_result"
    }
   ],
   "source": [
    "mydict.keys() # dictionary keys"
   ]
  },
  {
   "cell_type": "code",
   "execution_count": 172,
   "id": "9472ceb2",
   "metadata": {},
   "outputs": [
    {
     "data": {
      "text/plain": [
       "dict_values(['one', 'two', 'three'])"
      ]
     },
     "execution_count": 172,
     "metadata": {},
     "output_type": "execute_result"
    }
   ],
   "source": [
    "mydict.values() # values"
   ]
  },
  {
   "cell_type": "code",
   "execution_count": 173,
   "id": "0cec4a64",
   "metadata": {},
   "outputs": [
    {
     "data": {
      "text/plain": [
       "dict_items([('A', 'one'), ('B', 'two'), ('C', 'three')])"
      ]
     },
     "execution_count": 173,
     "metadata": {},
     "output_type": "execute_result"
    }
   ],
   "source": [
    "mydict.items()"
   ]
  },
  {
   "cell_type": "code",
   "execution_count": 174,
   "id": "e44feff5",
   "metadata": {},
   "outputs": [
    {
     "data": {
      "text/plain": [
       "{1: 'one', 2: 'two', 'A': ['Patil', 'Divesh']}"
      ]
     },
     "execution_count": 174,
     "metadata": {},
     "output_type": "execute_result"
    }
   ],
   "source": [
    "mydic = {1:'one', 2:'two', 'A':['Patil','Divesh']}\n",
    "mydic"
   ]
  },
  {
   "cell_type": "code",
   "execution_count": 175,
   "id": "bf801417",
   "metadata": {},
   "outputs": [
    {
     "data": {
      "text/plain": [
       "{1: 'one',\n",
       " 2: 'two',\n",
       " 'A': ['divesh', 'shivaji', 'patil'],\n",
       " 'B': ['jalgaon', 'jamner', 'shirpur']}"
      ]
     },
     "execution_count": 175,
     "metadata": {},
     "output_type": "execute_result"
    }
   ],
   "source": [
    "mydict = {1:'one', 2:'two', 'A':['divesh','shivaji','patil'], 'B':['jalgaon','jamner','shirpur']}\n",
    "mydict"
   ]
  },
  {
   "cell_type": "code",
   "execution_count": 176,
   "id": "c789c52d",
   "metadata": {},
   "outputs": [
    {
     "data": {
      "text/plain": [
       "{'b': None, 'a': None, 'd': None, 'c': None}"
      ]
     },
     "execution_count": 176,
     "metadata": {},
     "output_type": "execute_result"
    }
   ],
   "source": [
    "keys = {'a','b','c','d'}\n",
    "mydict3 = dict.fromkeys(keys)  # Create a dictionary from a sequence of keys\n",
    "mydict3"
   ]
  },
  {
   "cell_type": "code",
   "execution_count": 180,
   "id": "01462418",
   "metadata": {},
   "outputs": [
    {
     "data": {
      "text/plain": [
       "{'b': 'divesh', 'a': 'divesh', 'd': 'divesh', 'c': 'divesh'}"
      ]
     },
     "execution_count": 180,
     "metadata": {},
     "output_type": "execute_result"
    }
   ],
   "source": [
    "keys = {'a','b','c','d'}\n",
    "values = 'divesh'\n",
    "mydict3 = dict.fromkeys(keys,values)\n",
    "mydict3"
   ]
  },
  {
   "cell_type": "code",
   "execution_count": 181,
   "id": "0d103d29",
   "metadata": {},
   "outputs": [
    {
     "data": {
      "text/plain": [
       "{'b': [10, 20, 30], 'a': [10, 20, 30], 'd': [10, 20, 30], 'c': [10, 20, 30]}"
      ]
     },
     "execution_count": 181,
     "metadata": {},
     "output_type": "execute_result"
    }
   ],
   "source": [
    "keys = {'a' , 'b' , 'c' , 'd'} \n",
    "value = [10,20,30] \n",
    "mydict3 = dict.fromkeys(keys , value) \n",
    "mydict3"
   ]
  },
  {
   "cell_type": "code",
   "execution_count": 182,
   "id": "d5b6d5a1",
   "metadata": {},
   "outputs": [
    {
     "data": {
      "text/plain": [
       "{'b': [10, 20, 30, 40],\n",
       " 'a': [10, 20, 30, 40],\n",
       " 'd': [10, 20, 30, 40],\n",
       " 'c': [10, 20, 30, 40]}"
      ]
     },
     "execution_count": 182,
     "metadata": {},
     "output_type": "execute_result"
    }
   ],
   "source": [
    "value.append(40) \n",
    "mydict3 "
   ]
  },
  {
   "cell_type": "markdown",
   "id": "6c3f1bfa",
   "metadata": {},
   "source": [
    "# Accessing Items "
   ]
  },
  {
   "cell_type": "code",
   "execution_count": 183,
   "id": "f65a3202",
   "metadata": {},
   "outputs": [
    {
     "data": {
      "text/plain": [
       "{45: 'Bio', 56: 'chem', 89: 'phy', 70: 'math'}"
      ]
     },
     "execution_count": 183,
     "metadata": {},
     "output_type": "execute_result"
    }
   ],
   "source": [
    "mydic = {45:'Bio', 56:'chem', 89:'phy', 70:'math'}\n",
    "mydic"
   ]
  },
  {
   "cell_type": "code",
   "execution_count": 184,
   "id": "c8f767a0",
   "metadata": {},
   "outputs": [
    {
     "data": {
      "text/plain": [
       "'chem'"
      ]
     },
     "execution_count": 184,
     "metadata": {},
     "output_type": "execute_result"
    }
   ],
   "source": [
    "mydic[56] # Access item using key"
   ]
  },
  {
   "cell_type": "code",
   "execution_count": 186,
   "id": "9080a8de",
   "metadata": {},
   "outputs": [
    {
     "data": {
      "text/plain": [
       "'math'"
      ]
     },
     "execution_count": 186,
     "metadata": {},
     "output_type": "execute_result"
    }
   ],
   "source": [
    "mydic.get(70)"
   ]
  },
  {
   "cell_type": "markdown",
   "id": "dd4475bc",
   "metadata": {},
   "source": [
    "# Add, Remove & Change Items "
   ]
  },
  {
   "cell_type": "code",
   "execution_count": 187,
   "id": "9271279d",
   "metadata": {},
   "outputs": [
    {
     "data": {
      "text/plain": [
       "{'Name': 'Khan', 'Id': 451212, 'DOB': 1983, 'Address': 'Hydrabad'}"
      ]
     },
     "execution_count": 187,
     "metadata": {},
     "output_type": "execute_result"
    }
   ],
   "source": [
    "dic = {'Name':'Khan', 'Id':451212, 'DOB':1983, 'Address':'Hydrabad'}\n",
    "dic"
   ]
  },
  {
   "cell_type": "code",
   "execution_count": 189,
   "id": "ce26690f",
   "metadata": {},
   "outputs": [
    {
     "data": {
      "text/plain": [
       "{'Name': 'Khan', 'Id': 425141, 'DOB': 1983, 'Address': 'Pune'}"
      ]
     },
     "execution_count": 189,
     "metadata": {},
     "output_type": "execute_result"
    }
   ],
   "source": [
    "dic['Id'] = 425141\n",
    "dic['Address'] = 'Pune' #  Changing Dictionary Items \n",
    "dic"
   ]
  },
  {
   "cell_type": "code",
   "execution_count": 191,
   "id": "3592ba1b",
   "metadata": {},
   "outputs": [
    {
     "data": {
      "text/plain": [
       "{'Name': 'Khan', 'Id': 425141, 'DOB': 1990, 'Address': 'Pune'}"
      ]
     },
     "execution_count": 191,
     "metadata": {},
     "output_type": "execute_result"
    }
   ],
   "source": [
    "dict1 = {'DOB':1990}\n",
    "dic.update(dict1)  #change the dic name\n",
    "dic"
   ]
  },
  {
   "cell_type": "code",
   "execution_count": 194,
   "id": "a8f6fcf4",
   "metadata": {},
   "outputs": [
    {
     "data": {
      "text/plain": [
       "{'Name': 'Khan',\n",
       " 'Id': 425141,\n",
       " 'DOB': 1990,\n",
       " 'Address': 'Pune',\n",
       " 'job': 'Testing'}"
      ]
     },
     "execution_count": 194,
     "metadata": {},
     "output_type": "execute_result"
    }
   ],
   "source": [
    "dic['job']='Testing'  # Adding the items in dictionary\n",
    "dic"
   ]
  },
  {
   "cell_type": "code",
   "execution_count": 195,
   "id": "b411c44e",
   "metadata": {},
   "outputs": [
    {
     "data": {
      "text/plain": [
       "{'Name': 'Khan', 'Id': 425141, 'DOB': 1990, 'Address': 'Pune'}"
      ]
     },
     "execution_count": 195,
     "metadata": {},
     "output_type": "execute_result"
    }
   ],
   "source": [
    "dic.pop('job') # Remove the items\n",
    "dic"
   ]
  },
  {
   "cell_type": "code",
   "execution_count": 196,
   "id": "6a791c8b",
   "metadata": {},
   "outputs": [
    {
     "data": {
      "text/plain": [
       "('Address', 'Pune')"
      ]
     },
     "execution_count": 196,
     "metadata": {},
     "output_type": "execute_result"
    }
   ],
   "source": [
    "dic.popitem() # A random item is removed"
   ]
  },
  {
   "cell_type": "code",
   "execution_count": 197,
   "id": "e21e3828",
   "metadata": {},
   "outputs": [
    {
     "data": {
      "text/plain": [
       "{'Name': 'Khan', 'Id': 425141, 'DOB': 1990}"
      ]
     },
     "execution_count": 197,
     "metadata": {},
     "output_type": "execute_result"
    }
   ],
   "source": [
    "dic"
   ]
  },
  {
   "cell_type": "code",
   "execution_count": 199,
   "id": "e5260cdb",
   "metadata": {},
   "outputs": [
    {
     "data": {
      "text/plain": [
       "{}"
      ]
     },
     "execution_count": 199,
     "metadata": {},
     "output_type": "execute_result"
    }
   ],
   "source": [
    "dic.clear() # Delete all items of the dictionary using clear method \n",
    "dic "
   ]
  },
  {
   "cell_type": "markdown",
   "id": "7270e444",
   "metadata": {},
   "source": [
    "# Copy Dictionary "
   ]
  },
  {
   "cell_type": "code",
   "execution_count": 201,
   "id": "8962fc94",
   "metadata": {},
   "outputs": [
    {
     "data": {
      "text/plain": [
       "{'Name': 'vijay', 'ID': 1515345, 'DOB': 1990, 'Address': 'all world'}"
      ]
     },
     "execution_count": 201,
     "metadata": {},
     "output_type": "execute_result"
    }
   ],
   "source": [
    "mydict = {'Name':'vijay' , 'ID': 1515345 , 'DOB': 1990 , 'Address' : 'all world'} \n",
    "mydict "
   ]
  },
  {
   "cell_type": "code",
   "execution_count": 203,
   "id": "604c515b",
   "metadata": {},
   "outputs": [],
   "source": [
    "mydict1 = mydict # new referance in dictionary"
   ]
  },
  {
   "cell_type": "code",
   "execution_count": 204,
   "id": "38038732",
   "metadata": {},
   "outputs": [
    {
     "data": {
      "text/plain": [
       "(1705354448192, 1705354448192)"
      ]
     },
     "execution_count": 204,
     "metadata": {},
     "output_type": "execute_result"
    }
   ],
   "source": [
    "id(mydict1), id(mydict)"
   ]
  },
  {
   "cell_type": "code",
   "execution_count": 205,
   "id": "6fc46a25",
   "metadata": {},
   "outputs": [
    {
     "data": {
      "text/plain": [
       "{'Name': 'vijay', 'ID': 1515345, 'DOB': 1990, 'Address': 'all world'}"
      ]
     },
     "execution_count": 205,
     "metadata": {},
     "output_type": "execute_result"
    }
   ],
   "source": [
    "mydict"
   ]
  },
  {
   "cell_type": "code",
   "execution_count": 206,
   "id": "3efd369f",
   "metadata": {},
   "outputs": [],
   "source": [
    "mydict2 = mydict.copy() # create a copy dict"
   ]
  },
  {
   "cell_type": "code",
   "execution_count": 207,
   "id": "583dcfed",
   "metadata": {},
   "outputs": [
    {
     "data": {
      "text/plain": [
       "1705352511360"
      ]
     },
     "execution_count": 207,
     "metadata": {},
     "output_type": "execute_result"
    }
   ],
   "source": [
    "id(mydict2) #id"
   ]
  },
  {
   "cell_type": "code",
   "execution_count": 210,
   "id": "6756d0ab",
   "metadata": {},
   "outputs": [
    {
     "data": {
      "text/plain": [
       "{'Name': 'vijay', 'ID': 1515345, 'DOB': 1990, 'Address': 'mumbai'}"
      ]
     },
     "execution_count": 210,
     "metadata": {},
     "output_type": "execute_result"
    }
   ],
   "source": [
    "mydict['Address']= 'mumbai'\n",
    "mydict"
   ]
  },
  {
   "cell_type": "code",
   "execution_count": 211,
   "id": "6e609df8",
   "metadata": {},
   "outputs": [
    {
     "data": {
      "text/plain": [
       "{'Name': 'vijay', 'ID': 1515345, 'DOB': 1990, 'Address': 'mumbai'}"
      ]
     },
     "execution_count": 211,
     "metadata": {},
     "output_type": "execute_result"
    }
   ],
   "source": [
    "mydict1"
   ]
  },
  {
   "cell_type": "code",
   "execution_count": 212,
   "id": "d63c9a30",
   "metadata": {},
   "outputs": [
    {
     "data": {
      "text/plain": [
       "{'Name': 'vijay', 'ID': 1515345, 'DOB': 1990, 'Address': 'all world'}"
      ]
     },
     "execution_count": 212,
     "metadata": {},
     "output_type": "execute_result"
    }
   ],
   "source": [
    "mydict2"
   ]
  },
  {
   "cell_type": "markdown",
   "id": "2747bd53",
   "metadata": {},
   "source": [
    " # Loop through a Dictionary"
   ]
  },
  {
   "cell_type": "code",
   "execution_count": 213,
   "id": "99db37fc",
   "metadata": {},
   "outputs": [
    {
     "data": {
      "text/plain": [
       "{'Name': 'vijay', 'ID': 1515345, 'DOB': 1990, 'Address': 'all world'}"
      ]
     },
     "execution_count": 213,
     "metadata": {},
     "output_type": "execute_result"
    }
   ],
   "source": [
    "mydict = {'Name':'vijay' , 'ID': 1515345 , 'DOB': 1990 , 'Address' : 'all world'} \n",
    "mydict"
   ]
  },
  {
   "cell_type": "code",
   "execution_count": 214,
   "id": "4efa207c",
   "metadata": {},
   "outputs": [
    {
     "name": "stdout",
     "output_type": "stream",
     "text": [
      "Name : vijay\n",
      "ID : 1515345\n",
      "DOB : 1990\n",
      "Address : all world\n"
     ]
    }
   ],
   "source": [
    "for i in mydict:\n",
    "    print(i,':', mydict[i])  # key and value pairs"
   ]
  },
  {
   "cell_type": "code",
   "execution_count": 215,
   "id": "1ddaec2a",
   "metadata": {},
   "outputs": [
    {
     "name": "stdout",
     "output_type": "stream",
     "text": [
      "vijay\n",
      "1515345\n",
      "1990\n",
      "all world\n"
     ]
    }
   ],
   "source": [
    "for i in mydict:     # dictionary items\n",
    "    print(mydict[i])"
   ]
  },
  {
   "cell_type": "markdown",
   "id": "9207aa8d",
   "metadata": {},
   "source": [
    "# Dictionary Membership"
   ]
  },
  {
   "cell_type": "code",
   "execution_count": 216,
   "id": "afe902ee",
   "metadata": {},
   "outputs": [
    {
     "data": {
      "text/plain": [
       "{'Name': 'vijay', 'ID': 1515345, 'DOB': 1990, 'Address': 'all world'}"
      ]
     },
     "execution_count": 216,
     "metadata": {},
     "output_type": "execute_result"
    }
   ],
   "source": [
    "mydict = {'Name':'vijay' , 'ID': 1515345 , 'DOB': 1990 , 'Address' : 'all world'} \n",
    "mydict"
   ]
  },
  {
   "cell_type": "code",
   "execution_count": 220,
   "id": "ddb6cf57",
   "metadata": {},
   "outputs": [
    {
     "data": {
      "text/plain": [
       "True"
      ]
     },
     "execution_count": 220,
     "metadata": {},
     "output_type": "execute_result"
    }
   ],
   "source": [
    "'Name'in mydict  # only keys accept"
   ]
  },
  {
   "cell_type": "code",
   "execution_count": 221,
   "id": "c32e56b4",
   "metadata": {},
   "outputs": [
    {
     "data": {
      "text/plain": [
       "False"
      ]
     },
     "execution_count": 221,
     "metadata": {},
     "output_type": "execute_result"
    }
   ],
   "source": [
    "1990 in mydict"
   ]
  },
  {
   "cell_type": "markdown",
   "id": "d57f37a2",
   "metadata": {},
   "source": [
    "# All / Any "
   ]
  },
  {
   "cell_type": "code",
   "execution_count": 222,
   "id": "af816300",
   "metadata": {},
   "outputs": [
    {
     "data": {
      "text/plain": [
       "{'Name': 'vijay', 'ID': 1515345, 'DOB': 1990, 'Address': 'all world'}"
      ]
     },
     "execution_count": 222,
     "metadata": {},
     "output_type": "execute_result"
    }
   ],
   "source": [
    "mydict = {'Name':'vijay' , 'ID': 1515345 , 'DOB': 1990 , 'Address' : 'all world'} \n",
    "mydict"
   ]
  },
  {
   "cell_type": "code",
   "execution_count": 223,
   "id": "bed84028",
   "metadata": {},
   "outputs": [
    {
     "data": {
      "text/plain": [
       "True"
      ]
     },
     "execution_count": 223,
     "metadata": {},
     "output_type": "execute_result"
    }
   ],
   "source": [
    "all(mydict) # Will Return false as one value is false (Value 0) "
   ]
  },
  {
   "cell_type": "code",
   "execution_count": null,
   "id": "b159c1b6",
   "metadata": {},
   "outputs": [],
   "source": []
  }
 ],
 "metadata": {
  "kernelspec": {
   "display_name": "Python 3 (ipykernel)",
   "language": "python",
   "name": "python3"
  },
  "language_info": {
   "codemirror_mode": {
    "name": "ipython",
    "version": 3
   },
   "file_extension": ".py",
   "mimetype": "text/x-python",
   "name": "python",
   "nbconvert_exporter": "python",
   "pygments_lexer": "ipython3",
   "version": "3.11.5"
  }
 },
 "nbformat": 4,
 "nbformat_minor": 5
}
